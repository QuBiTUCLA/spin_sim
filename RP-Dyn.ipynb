{
 "cells": [
  {
   "cell_type": "code",
   "execution_count": 1,
   "metadata": {},
   "outputs": [],
   "source": [
    "#!/usr/bin/env python3\n",
    "# -*- coding: UTF-8 -*-\n",
    "# a script for Radical-Pair simulations\n",
    "# author's email: reza8@ucla.edu\n",
    "#--------------------------------------------\n",
    "\n",
    "#log consts\n",
    "LOGLEVEL={0:\"DEBUG\",1:\"INFO\",2:\"WARN\",3:\"ERR\",4:\"FATAL\"}\n",
    "#log function. I believe my log function is more friendly than logging package\n",
    "import sys,traceback,math\n",
    "def log(msg,l=1,end=\"\\n\",logfile=None):\n",
    "    st=traceback.extract_stack()[-2]\n",
    "    lstr=LOGLEVEL[l]\n",
    "    now_str=\"%s %03d\"%(time.strftime(\"%y/%m/%d %H:%M:%S\",time.localtime()),math.modf(time.time())[0]*1000)\n",
    "    if l<3:\n",
    "        tempstr=\"%s<%s:%d,%s> %s%s\"%(now_str,st.name,st.lineno,lstr,str(msg),end)\n",
    "    else:\n",
    "        tempstr=\"%s<%s:%d,%s> %s:\\n%s%s\"%(now_str,st.name,st.lineno,lstr,str(msg),traceback.format_exc(limit=2),end)\n",
    "    print(tempstr,end=\"\")\n",
    "    if l>=1:\n",
    "        if logfile==None:\n",
    "            logfile=sys.argv[0].split(\".\")\n",
    "            logfile[-1]=\"log\"\n",
    "            logfile=\".\".join(logfile)\n",
    "        with open(logfile,\"a\") as f:\n",
    "            f.write(tempstr)\n",
    "\n",
    "\n",
    "import matplotlib.pyplot as plt\n",
    "import numpy as np\n",
    "from IPython.display import Image\n",
    "from qutip import *\n",
    "\n",
    "def H_10st(a, omega):\n",
    "    \"\"\"The Hamiltonian for the theory developed in paper by \n",
    "    Timmel et al.: https://doi.org/10.1080/00268979809483134\"\"\"\n",
    "    \n",
    "    h_hyp = a[0]*(tensor(tensor(sigmax(), qeye(2)), sigmax())) + a[1]*(tensor(tensor(sigmay(), qeye(2)), sigmay())) + \\\n",
    "        a[2]*(tensor(tensor(sigmaz(), qeye(2)), sigmaz()))\n",
    "\n",
    "    h_zeem = omega[0]*(tensor(tensor(qeye(2), sigmax()), qeye(2)) + tensor(tensor(qeye(2), qeye(2)), sigmax())) + \\\n",
    "        omega[1]*(tensor(tensor(qeye(2), sigmay()), qeye(2)) + tensor(tensor(qeye(2), qeye(2)), sigmay())) + \\\n",
    "            omega[2]*(tensor(tensor(qeye(2), sigmaz()), qeye(2)) + tensor(tensor(qeye(2), qeye(2)), sigmaz()))\n",
    "    \n",
    "    H = h_hyp + h_zeem\n",
    "    return H\n",
    "\n",
    "\n",
    "\n",
    "\n"
   ]
  },
  {
   "cell_type": "code",
   "execution_count": null,
   "metadata": {},
   "outputs": [],
   "source": [
    "if __name__==\"__main__\":\n",
    "    print(\"This is main.py\\n\")\n",
    "\n",
    "    #Parameters of Hamiltonian\n",
    "    a = [1., 1., 1.]\n",
    "    omega = [1., 1., 1.]\n",
    "    k = [1., 1., 1., 1., 1., 1., 1., 1.]\n",
    "    \n",
    "    #Initial state\n",
    "    psi_0 = 1/np.sqrt(2)*(basis(4, 2) - basis(4, 1))\n",
    "    rho_0 = 0.5*tensor(qeye(2), tensor(psi_0,psi_0.dag()))\n",
    "    trnsf = Qobj([[1,0,0,0,0,0,0,0],[0,1,0,0,0,0,0,0],[0,0,1,0,0,0,0,0],[0,0,0,1,0,0,0,0],[0,0,0,0,1,0,0,0],\n",
    "    [0,0,0,0,0,1,0,0],[0,0,0,0,0,0,1,0],[0,0,0,0,0,0,0,1],[0,0,0,0,0,0,0,0],[0,0,0,0,0,0,0,0]])\n",
    "    #rho_01 = trnsf*0.5*tensor(qeye(2), tensor(psi_0,psi_0.dag()))*trnsf.trans()\n",
    "    \n",
    "    #Collapse operators\n",
    "    #p1 = Qobj([[0,0,0,0,0,0,0,0,0,0],[0,0,0,0,0,0,0,0,0,0],[0,0,0,0,0,0,0,0,0,0],[0,0,0,0,0,0,0,0,0,0],[0,0,0,0,0,0,0,0,0,0],\n",
    "    #[0,0,0,0,0,0,0,0,0,0],[0,0,0,0,0,0,0,0,0,0],[0,0,0,0,0,0,0,0,0,0],[0,1,-1,0,0,0,0,0,0,0],[0,0,0,0,0,0,0,0,0,0]])\n",
    "    p2 = Qobj([[0,0,0,0,0,0,0,0,0,0],[0,0,0,0,0,0,0,0,0,0],[0,0,0,0,0,0,0,0,0,0],[0,0,0,0,0,0,0,0,0,0],[0,0,0,0,0,0,0,0,0,0],\n",
    "    [0,0,0,0,0,0,0,0,0,0],[0,0,0,0,0,0,0,0,0,0],[0,0,0,0,0,0,0,0,0,0],[0,0,0,0,0,1,-1,0,0,0],[0,0,0,0,0,0,0,0,0,0]])\n",
    "    p3 = Qobj([[0,0,0,0,0,0,0,0,0,0],[0,0,0,0,0,0,0,0,0,0],[0,0,0,0,0,0,0,0,0,0],[0,0,0,0,0,0,0,0,0,0],[0,0,0,0,0,0,0,0,0,0],\n",
    "    [0,0,0,0,0,0,0,0,0,0],[0,0,0,0,0,0,0,0,0,0],[0,0,0,0,0,0,0,0,0,0],[0,0,0,0,0,0,0,0,0,0],[0,1,1,0,0,0,0,0,0,0]])\n",
    "    p4 = Qobj([[0,0,0,0,0,0,0,0,0,0],[0,0,0,0,0,0,0,0,0,0],[0,0,0,0,0,0,0,0,0,0],[0,0,0,0,0,0,0,0,0,0],[0,0,0,0,0,0,0,0,0,0],\n",
    "    [0,0,0,0,0,0,0,0,0,0],[0,0,0,0,0,0,0,0,0,0],[0,0,0,0,0,0,0,0,0,0],[0,0,0,0,0,0,0,0,0,0],[0,0,0,0,0,1,1,0,0,0]])\n",
    "    p5 = Qobj([[0,0,0,0,0,0,0,0,0,0],[0,0,0,0,0,0,0,0,0,0],[0,0,0,0,0,0,0,0,0,0],[0,0,0,0,0,0,0,0,0,0],[0,0,0,0,0,0,0,0,0,0],\n",
    "    [0,0,0,0,0,0,0,0,0,0],[0,0,0,0,0,0,0,0,0,0],[0,0,0,0,0,0,0,0,0,0],[0,0,0,0,0,0,0,0,0,0],[1,0,0,0,0,0,0,0,0,0]])\n",
    "    p6 = Qobj([[0,0,0,0,0,0,0,0,0,0],[0,0,0,0,0,0,0,0,0,0],[0,0,0,0,0,0,0,0,0,0],[0,0,0,0,0,0,0,0,0,0],[0,0,0,0,0,0,0,0,0,0],\n",
    "    [0,0,0,0,0,0,0,0,0,0],[0,0,0,0,0,0,0,0,0,0],[0,0,0,0,0,0,0,0,0,0],[0,0,0,0,0,0,0,0,0,0],[0,0,0,1,0,0,0,0,0,0]])\n",
    "    p7 = Qobj([[0,0,0,0,0,0,0,0,0,0],[0,0,0,0,0,0,0,0,0,0],[0,0,0,0,0,0,0,0,0,0],[0,0,0,0,0,0,0,0,0,0],[0,0,0,0,0,0,0,0,0,0],\n",
    "    [0,0,0,0,0,0,0,0,0,0],[0,0,0,0,0,0,0,0,0,0],[0,0,0,0,0,0,0,0,0,0],[0,0,0,0,0,0,0,0,0,0],[0,0,0,0,1,0,0,0,0,0]])\n",
    "    p8 = Qobj([[0,0,0,0,0,0,0,0,0,0],[0,0,0,0,0,0,0,0,0,0],[0,0,0,0,0,0,0,0,0,0],[0,0,0,0,0,0,0,0,0,0],[0,0,0,0,0,0,0,0,0,0],\n",
    "    [0,0,0,0,0,0,0,0,0,0],[0,0,0,0,0,0,0,0,0,0],[0,0,0,0,0,0,0,0,0,0],[0,0,0,0,0,0,0,0,0,0],[0,0,0,0,0,0,0,1,0,0]])\n",
    "\n",
    "    #p=[p1,p2,p3,p4,p5,p6,p7,p8]\n",
    "    p1 = Qobj([[0,0,0,0,0,0,0,0],[0,0,0,0,0,0,0,0],[0,0,0,0,0,0,0,0],\n",
    "    [0,0,0,0,0,0,0,0],[0,0,0,0,0,0,0,0],[0,0,0,0,0,0,0,0],[0,0,0,0,0,0,0,0],[0,0,0,0,1,-1,0,0]])\n",
    "    p = [p1]\n",
    "#     tem = 0.\n",
    "#     for i in range(8):\n",
    "#         tem = tem + lindblad_dissipator(p[i])\n",
    "#         #tem = tem + k[i]*tensor(tensor(p[i], rho_0), p[i].dag()) #- 0.5*k[i]*(tensor(tensor(p[i].dag(),p[i]), rho_0) + tensor(tensor(rho_0, p[i].dag()), p[i]))\n",
    "#     c_opt = tem   \n",
    "    \n",
    "    c_opt = p\n",
    "    L = liouvillian(H_10st(a, omega), c_opt)\n",
    "    tlist = np.linspace(0, 10, 100)\n",
    "    result = mesolve(L, rho_0, tlist, [], [])\n",
    "    print(result.states[-1])\n",
    "    print(tem)"
   ]
  },
  {
   "cell_type": "code",
   "execution_count": 17,
   "metadata": {},
   "outputs": [
    {
     "name": "stdout",
     "output_type": "stream",
     "text": [
      "Quantum object: dims = [[2, 2, 2], [2, 2, 2]], shape = (8, 8), type = oper, isherm = True\n",
      "Qobj data =\n",
      "[[ 3.+0.j  1.-1.j  1.-1.j  0.+0.j  0.+0.j  0.+0.j  0.+0.j  0.+0.j]\n",
      " [ 1.+1.j -1.+0.j  0.+0.j  1.-1.j  2.+0.j  0.+0.j  0.+0.j  0.+0.j]\n",
      " [ 1.+1.j  0.+0.j  1.+0.j  1.-1.j  0.+0.j  0.+0.j  0.+0.j  0.+0.j]\n",
      " [ 0.+0.j  1.+1.j  1.+1.j -3.+0.j  0.+0.j  0.+0.j  2.+0.j  0.+0.j]\n",
      " [ 0.+0.j  2.+0.j  0.+0.j  0.+0.j  1.+0.j  1.-1.j  1.-1.j  0.+0.j]\n",
      " [ 0.+0.j  0.+0.j  0.+0.j  0.+0.j  1.+1.j  1.+0.j  0.+0.j  1.-1.j]\n",
      " [ 0.+0.j  0.+0.j  0.+0.j  2.+0.j  1.+1.j  0.+0.j -1.+0.j  1.-1.j]\n",
      " [ 0.+0.j  0.+0.j  0.+0.j  0.+0.j  0.+0.j  1.+1.j  1.+1.j -1.+0.j]]\n"
     ]
    }
   ],
   "source": [
    "print(H_10st(a, omega))"
   ]
  },
  {
   "cell_type": "code",
   "execution_count": 35,
   "metadata": {},
   "outputs": [
    {
     "name": "stdout",
     "output_type": "stream",
     "text": [
      "Quantum object: dims = [[[10], [10]], [[10], [10]]], shape = (100, 100), type = super, isherm = False\n",
      "Qobj data =\n",
      "[[ 0.   0.   0.  ...  0.   0.   0. ]\n",
      " [ 0.   0.   0.  ...  0.   0.   0. ]\n",
      " [ 0.   0.   0.  ...  0.   0.   0. ]\n",
      " ...\n",
      " [ 0.   0.   0.  ... -0.5  0.   0. ]\n",
      " [ 0.   0.   0.  ...  0.   0.   0. ]\n",
      " [ 0.   0.   0.  ...  0.   0.   0. ]]\n"
     ]
    }
   ],
   "source": [
    "print(lindblad_dissipator(p[i]))"
   ]
  },
  {
   "cell_type": "code",
   "execution_count": 38,
   "metadata": {},
   "outputs": [
    {
     "name": "stdout",
     "output_type": "stream",
     "text": [
      "Quantum object: dims = [[[10], [10]], [[10], [10]]], shape = (100, 100), type = super, isherm = False\n",
      "Qobj data =\n",
      "[[-1.   0.   0.  ...  0.   0.   0. ]\n",
      " [ 0.  -1.5  0.  ...  0.   0.   0. ]\n",
      " [ 0.   0.  -1.5 ...  0.   0.   0. ]\n",
      " ...\n",
      " [ 0.   0.   0.  ... -0.5  0.   0. ]\n",
      " [ 0.   0.   0.  ...  0.   0.   0. ]\n",
      " [ 1.   0.   0.  ...  0.   0.   0. ]]\n"
     ]
    }
   ],
   "source": [
    "print(c_opt)"
   ]
  },
  {
   "cell_type": "code",
   "execution_count": 15,
   "metadata": {},
   "outputs": [
    {
     "data": {
      "text/plain": [
       "1.0"
      ]
     },
     "execution_count": 15,
     "metadata": {},
     "output_type": "execute_result"
    }
   ],
   "source": [
    "np.cos(0.)"
   ]
  },
  {
   "cell_type": "code",
   "execution_count": 12,
   "metadata": {},
   "outputs": [],
   "source": [
    "df = (tensor(basis(2, 0), basis(2, 1)) - tensor(basis(2, 1), basis(2, 0)))"
   ]
  },
  {
   "cell_type": "code",
   "execution_count": 8,
   "metadata": {},
   "outputs": [],
   "source": [
    "df2 = basis(4, 2) - basis(4, 1)"
   ]
  },
  {
   "cell_type": "code",
   "execution_count": 13,
   "metadata": {},
   "outputs": [
    {
     "data": {
      "text/plain": [
       "False"
      ]
     },
     "execution_count": 13,
     "metadata": {},
     "output_type": "execute_result"
    }
   ],
   "source": [
    "df == df2"
   ]
  },
  {
   "cell_type": "code",
   "execution_count": 14,
   "metadata": {},
   "outputs": [
    {
     "data": {
      "text/latex": [
       "Quantum object: dims = [[2, 2], [1, 1]], shape = (4, 1), type = ket\\begin{equation*}\\left(\\begin{array}{*{11}c}0.0\\\\1.0\\\\-1.0\\\\0.0\\\\\\end{array}\\right)\\end{equation*}"
      ],
      "text/plain": [
       "Quantum object: dims = [[2, 2], [1, 1]], shape = (4, 1), type = ket\n",
       "Qobj data =\n",
       "[[ 0.]\n",
       " [ 1.]\n",
       " [-1.]\n",
       " [ 0.]]"
      ]
     },
     "execution_count": 14,
     "metadata": {},
     "output_type": "execute_result"
    }
   ],
   "source": [
    "df"
   ]
  },
  {
   "cell_type": "code",
   "execution_count": 11,
   "metadata": {},
   "outputs": [
    {
     "data": {
      "text/latex": [
       "Quantum object: dims = [[4], [1]], shape = (4, 1), type = ket\\begin{equation*}\\left(\\begin{array}{*{11}c}0.0\\\\-1.0\\\\1.0\\\\0.0\\\\\\end{array}\\right)\\end{equation*}"
      ],
      "text/plain": [
       "Quantum object: dims = [[4], [1]], shape = (4, 1), type = ket\n",
       "Qobj data =\n",
       "[[ 0.]\n",
       " [-1.]\n",
       " [ 1.]\n",
       " [ 0.]]"
      ]
     },
     "execution_count": 11,
     "metadata": {},
     "output_type": "execute_result"
    }
   ],
   "source": [
    "df2"
   ]
  },
  {
   "cell_type": "code",
   "execution_count": 2,
   "metadata": {},
   "outputs": [],
   "source": [
    "num_states = 12\n",
    "\n",
    "P1 = 1.0 / np.sqrt(2.0) * basis(num_states, 8) * (basis(num_states, 2).dag() - basis(num_states, 4).dag())\n",
    "P2 = 1.0 / np.sqrt(2.0) * basis(num_states, 8) * (basis(num_states, 3).dag() - basis(num_states, 5).dag())\n",
    "P3 = 1.0 / np.sqrt(2.0) * basis(num_states, 10) * (basis(num_states, 2).dag() + basis(num_states, 4).dag())\n",
    "P4 = 1.0 / np.sqrt(2.0) * basis(num_states, 10) * (basis(num_states, 3).dag() + basis(num_states, 5).dag())\n",
    "P5 = basis(num_states, 11) * basis(num_states, 0).dag()\n",
    "P6 = basis(num_states, 11) * basis(num_states, 1).dag()\n",
    "P7 = basis(num_states, 9) * basis(num_states, 6).dag()\n",
    "P8 = basis(num_states, 9) * basis(num_states, 7).dag()"
   ]
  },
  {
   "cell_type": "code",
   "execution_count": 4,
   "metadata": {},
   "outputs": [
    {
     "data": {
      "text/latex": [
       "Quantum object: dims = [[12], [12]], shape = (12, 12), type = oper, isherm = False\\begin{equation*}\\left(\\begin{array}{*{11}c}0.0 & 0.0 & 0.0 & 0.0 & 0.0 & \\cdots & 0.0 & 0.0 & 0.0 & 0.0 & 0.0\\\\0.0 & 0.0 & 0.0 & 0.0 & 0.0 & \\cdots & 0.0 & 0.0 & 0.0 & 0.0 & 0.0\\\\0.0 & 0.0 & 0.0 & 0.0 & 0.0 & \\cdots & 0.0 & 0.0 & 0.0 & 0.0 & 0.0\\\\0.0 & 0.0 & 0.0 & 0.0 & 0.0 & \\cdots & 0.0 & 0.0 & 0.0 & 0.0 & 0.0\\\\0.0 & 0.0 & 0.0 & 0.0 & 0.0 & \\cdots & 0.0 & 0.0 & 0.0 & 0.0 & 0.0\\\\\\vdots & \\vdots & \\vdots & \\vdots & \\vdots & \\ddots & \\vdots & \\vdots & \\vdots & \\vdots & \\vdots\\\\0.0 & 0.0 & 0.0 & 0.0 & 0.0 & \\cdots & 0.0 & 0.0 & 0.0 & 0.0 & 0.0\\\\0.0 & 0.0 & 0.707 & 0.0 & -0.707 & \\cdots & 0.0 & 0.0 & 0.0 & 0.0 & 0.0\\\\0.0 & 0.0 & 0.0 & 0.0 & 0.0 & \\cdots & 0.0 & 0.0 & 0.0 & 0.0 & 0.0\\\\0.0 & 0.0 & 0.0 & 0.0 & 0.0 & \\cdots & 0.0 & 0.0 & 0.0 & 0.0 & 0.0\\\\0.0 & 0.0 & 0.0 & 0.0 & 0.0 & \\cdots & 0.0 & 0.0 & 0.0 & 0.0 & 0.0\\\\\\end{array}\\right)\\end{equation*}"
      ],
      "text/plain": [
       "Quantum object: dims = [[12], [12]], shape = (12, 12), type = oper, isherm = False\n",
       "Qobj data =\n",
       "[[ 0.          0.          0.          0.          0.          0.\n",
       "   0.          0.          0.          0.          0.          0.        ]\n",
       " [ 0.          0.          0.          0.          0.          0.\n",
       "   0.          0.          0.          0.          0.          0.        ]\n",
       " [ 0.          0.          0.          0.          0.          0.\n",
       "   0.          0.          0.          0.          0.          0.        ]\n",
       " [ 0.          0.          0.          0.          0.          0.\n",
       "   0.          0.          0.          0.          0.          0.        ]\n",
       " [ 0.          0.          0.          0.          0.          0.\n",
       "   0.          0.          0.          0.          0.          0.        ]\n",
       " [ 0.          0.          0.          0.          0.          0.\n",
       "   0.          0.          0.          0.          0.          0.        ]\n",
       " [ 0.          0.          0.          0.          0.          0.\n",
       "   0.          0.          0.          0.          0.          0.        ]\n",
       " [ 0.          0.          0.          0.          0.          0.\n",
       "   0.          0.          0.          0.          0.          0.        ]\n",
       " [ 0.          0.          0.70710678  0.         -0.70710678  0.\n",
       "   0.          0.          0.          0.          0.          0.        ]\n",
       " [ 0.          0.          0.          0.          0.          0.\n",
       "   0.          0.          0.          0.          0.          0.        ]\n",
       " [ 0.          0.          0.          0.          0.          0.\n",
       "   0.          0.          0.          0.          0.          0.        ]\n",
       " [ 0.          0.          0.          0.          0.          0.\n",
       "   0.          0.          0.          0.          0.          0.        ]]"
      ]
     },
     "execution_count": 4,
     "metadata": {},
     "output_type": "execute_result"
    }
   ],
   "source": [
    "P1"
   ]
  },
  {
   "cell_type": "code",
   "execution_count": null,
   "metadata": {},
   "outputs": [],
   "source": []
  }
 ],
 "metadata": {
  "kernelspec": {
   "display_name": "Python 3",
   "language": "python",
   "name": "python3"
  },
  "language_info": {
   "codemirror_mode": {
    "name": "ipython",
    "version": 3
   },
   "file_extension": ".py",
   "mimetype": "text/x-python",
   "name": "python",
   "nbconvert_exporter": "python",
   "pygments_lexer": "ipython3",
   "version": "3.7.0"
  }
 },
 "nbformat": 4,
 "nbformat_minor": 4
}
