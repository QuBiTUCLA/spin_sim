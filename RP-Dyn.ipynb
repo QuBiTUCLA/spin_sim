{
 "cells": [
  {
   "cell_type": "code",
   "execution_count": 3,
   "metadata": {},
   "outputs": [
    {
     "name": "stdout",
     "output_type": "stream",
     "text": [
      "This is main.py\n",
      "\n",
      "Quantum object: dims = [[2, 4, 1], [2, 1, 4]], shape = (8, 8), type = oper, isherm = True\n",
      "Qobj data =\n",
      "[[ 0.09189705-2.10016709e-17j -0.01573453+8.04290907e-03j\n",
      "  -0.07923648+1.08012880e-01j  0.01534111+1.27511485e-02j\n",
      "  -0.02660982+7.51571370e-04j  0.00360868+8.43201618e-03j\n",
      "  -0.00425063-1.47040338e-02j -0.01719152-1.41446155e-02j]\n",
      " [-0.01573453-8.04290907e-03j  0.05398203+5.44354352e-18j\n",
      "   0.01677332-5.99186209e-03j -0.02839803+3.56556953e-02j\n",
      "   0.02263664-1.67184125e-02j  0.00477671+1.17587299e-02j\n",
      "  -0.04522629+5.13660969e-02j -0.01572966-2.34609899e-02j]\n",
      " [-0.07923648-1.08012880e-01j  0.01677332+5.99186209e-03j\n",
      "   0.24240794+3.80944108e-17j  0.01236851-2.75380603e-02j\n",
      "   0.00979279+2.38289108e-02j -0.00698254-1.52518912e-02j\n",
      "   0.00079319+3.30613228e-02j  0.01799038+5.42813493e-02j]\n",
      " [ 0.01534111-1.27511485e-02j -0.02839803-3.56556953e-02j\n",
      "   0.01236851+2.75380603e-02j  0.08700657+9.94446169e-19j\n",
      "  -0.0522434 -1.70079172e-03j -0.00338646+3.41209545e-03j\n",
      "   0.07903381+6.81918449e-03j -0.02031049-2.00181890e-02j]\n",
      " [-0.02660982-7.51571370e-04j  0.02263664+1.67184125e-02j\n",
      "   0.00979279-2.38289108e-02j -0.0522434 +1.70079172e-03j\n",
      "   0.06509829+8.69751016e-18j  0.0141928 -1.96401004e-02j\n",
      "  -0.0710546 +1.56298349e-02j  0.01235652+4.71558376e-02j]\n",
      " [ 0.00360868-8.43201618e-03j  0.00477671-1.17587299e-02j\n",
      "  -0.00698254+1.52518912e-02j -0.00338646-3.41209545e-03j\n",
      "   0.0141928 +1.96401004e-02j  0.05439895+1.83252458e-18j\n",
      "  -0.00649271+6.74593057e-03j -0.08162632+3.95301360e-02j]\n",
      " [-0.00425063+1.47040338e-02j -0.04522629-5.13660969e-02j\n",
      "   0.00079319-3.30613228e-02j  0.07903381-6.81918449e-03j\n",
      "  -0.0710546 -1.56298349e-02j -0.00649271-6.74593057e-03j\n",
      "   0.16388479+3.05777760e-17j  0.01355489-1.37688090e-02j]\n",
      " [-0.01719152+1.41446155e-02j -0.01572966+2.34609899e-02j\n",
      "   0.01799038-5.42813493e-02j -0.02031049+2.00181890e-02j\n",
      "   0.01235652-4.71558376e-02j -0.08162632-3.95301360e-02j\n",
      "   0.01355489+1.37688090e-02j  0.24132438-5.46684961e-17j]]\n"
     ]
    },
    {
     "ename": "NameError",
     "evalue": "name 'tem' is not defined",
     "output_type": "error",
     "traceback": [
      "\u001b[0;31m---------------------------------------------------------------------------\u001b[0m",
      "\u001b[0;31mNameError\u001b[0m                                 Traceback (most recent call last)",
      "\u001b[0;32m<ipython-input-3-afe83d0db168>\u001b[0m in \u001b[0;36m<module>\u001b[0;34m\u001b[0m\n\u001b[1;32m     97\u001b[0m     \u001b[0mresult\u001b[0m \u001b[0;34m=\u001b[0m \u001b[0mmesolve\u001b[0m\u001b[0;34m(\u001b[0m\u001b[0mL\u001b[0m\u001b[0;34m,\u001b[0m \u001b[0mrho_0\u001b[0m\u001b[0;34m,\u001b[0m \u001b[0mtlist\u001b[0m\u001b[0;34m,\u001b[0m \u001b[0;34m[\u001b[0m\u001b[0;34m]\u001b[0m\u001b[0;34m,\u001b[0m \u001b[0;34m[\u001b[0m\u001b[0;34m]\u001b[0m\u001b[0;34m)\u001b[0m\u001b[0;34m\u001b[0m\u001b[0m\n\u001b[1;32m     98\u001b[0m     \u001b[0mprint\u001b[0m\u001b[0;34m(\u001b[0m\u001b[0mresult\u001b[0m\u001b[0;34m.\u001b[0m\u001b[0mstates\u001b[0m\u001b[0;34m[\u001b[0m\u001b[0;34m-\u001b[0m\u001b[0;36m1\u001b[0m\u001b[0;34m]\u001b[0m\u001b[0;34m)\u001b[0m\u001b[0;34m\u001b[0m\u001b[0m\n\u001b[0;32m---> 99\u001b[0;31m     \u001b[0mprint\u001b[0m\u001b[0;34m(\u001b[0m\u001b[0mtem\u001b[0m\u001b[0;34m)\u001b[0m\u001b[0;34m\u001b[0m\u001b[0m\n\u001b[0m",
      "\u001b[0;31mNameError\u001b[0m: name 'tem' is not defined"
     ]
    }
   ],
   "source": [
    "#!/usr/bin/env python3\n",
    "# -*- coding: UTF-8 -*-\n",
    "# a script for Radical-Pair simulations\n",
    "# author's email: reza8@ucla.edu\n",
    "#--------------------------------------------\n",
    "\n",
    "#log consts\n",
    "LOGLEVEL={0:\"DEBUG\",1:\"INFO\",2:\"WARN\",3:\"ERR\",4:\"FATAL\"}\n",
    "#log function. I believe my log function is more friendly than logging package\n",
    "import sys,traceback,math\n",
    "def log(msg,l=1,end=\"\\n\",logfile=None):\n",
    "    st=traceback.extract_stack()[-2]\n",
    "    lstr=LOGLEVEL[l]\n",
    "    now_str=\"%s %03d\"%(time.strftime(\"%y/%m/%d %H:%M:%S\",time.localtime()),math.modf(time.time())[0]*1000)\n",
    "    if l<3:\n",
    "        tempstr=\"%s<%s:%d,%s> %s%s\"%(now_str,st.name,st.lineno,lstr,str(msg),end)\n",
    "    else:\n",
    "        tempstr=\"%s<%s:%d,%s> %s:\\n%s%s\"%(now_str,st.name,st.lineno,lstr,str(msg),traceback.format_exc(limit=2),end)\n",
    "    print(tempstr,end=\"\")\n",
    "    if l>=1:\n",
    "        if logfile==None:\n",
    "            logfile=sys.argv[0].split(\".\")\n",
    "            logfile[-1]=\"log\"\n",
    "            logfile=\".\".join(logfile)\n",
    "        with open(logfile,\"a\") as f:\n",
    "            f.write(tempstr)\n",
    "\n",
    "\n",
    "import matplotlib.pyplot as plt\n",
    "import numpy as np\n",
    "from IPython.display import Image\n",
    "from qutip import *\n",
    "\n",
    "def H_10st(a, omega):\n",
    "    \"\"\"The Hamiltonian for the theory developed in paper by \n",
    "    Timmel et al.: https://doi.org/10.1080/00268979809483134\"\"\"\n",
    "    \n",
    "    h_hyp = a[0]*(tensor(tensor(sigmax(), qeye(2)), sigmax())) + a[1]*(tensor(tensor(sigmay(), qeye(2)), sigmay())) + \\\n",
    "        a[2]*(tensor(tensor(sigmaz(), qeye(2)), sigmaz()))\n",
    "\n",
    "    h_zeem = omega[0]*(tensor(tensor(qeye(2), sigmax()), qeye(2)) + tensor(tensor(qeye(2), qeye(2)), sigmax())) + \\\n",
    "        omega[1]*(tensor(tensor(qeye(2), sigmay()), qeye(2)) + tensor(tensor(qeye(2), qeye(2)), sigmay())) + \\\n",
    "            omega[2]*(tensor(tensor(qeye(2), sigmaz()), qeye(2)) + tensor(tensor(qeye(2), qeye(2)), sigmaz()))\n",
    "    \n",
    "    H = h_hyp + h_zeem\n",
    "    return H\n",
    "\n",
    "\n",
    "\n",
    "\n",
    "if __name__==\"__main__\":\n",
    "    print(\"This is main.py\\n\")\n",
    "\n",
    "    #Parameters of Hamiltonian\n",
    "    a = [1., 1., 1.]\n",
    "    omega = [1., 1., 1.]\n",
    "    k = [1., 1., 1., 1., 1., 1., 1., 1.]\n",
    "    \n",
    "    #Initial state\n",
    "    psi_0 = 1/np.sqrt(2)*(basis(4, 2) - basis(4, 1))\n",
    "    rho_0 = 0.5*tensor(qeye(2), tensor(psi_0,psi_0.dag()))\n",
    "    trnsf = Qobj([[1,0,0,0,0,0,0,0],[0,1,0,0,0,0,0,0],[0,0,1,0,0,0,0,0],[0,0,0,1,0,0,0,0],[0,0,0,0,1,0,0,0],\n",
    "    [0,0,0,0,0,1,0,0],[0,0,0,0,0,0,1,0],[0,0,0,0,0,0,0,1],[0,0,0,0,0,0,0,0],[0,0,0,0,0,0,0,0]])\n",
    "    #rho_01 = trnsf*0.5*tensor(qeye(2), tensor(psi_0,psi_0.dag()))*trnsf.trans()\n",
    "    \n",
    "    #Collapse operators\n",
    "    #p1 = Qobj([[0,0,0,0,0,0,0,0,0,0],[0,0,0,0,0,0,0,0,0,0],[0,0,0,0,0,0,0,0,0,0],[0,0,0,0,0,0,0,0,0,0],[0,0,0,0,0,0,0,0,0,0],\n",
    "    #[0,0,0,0,0,0,0,0,0,0],[0,0,0,0,0,0,0,0,0,0],[0,0,0,0,0,0,0,0,0,0],[0,1,-1,0,0,0,0,0,0,0],[0,0,0,0,0,0,0,0,0,0]])\n",
    "    p2 = Qobj([[0,0,0,0,0,0,0,0,0,0],[0,0,0,0,0,0,0,0,0,0],[0,0,0,0,0,0,0,0,0,0],[0,0,0,0,0,0,0,0,0,0],[0,0,0,0,0,0,0,0,0,0],\n",
    "    [0,0,0,0,0,0,0,0,0,0],[0,0,0,0,0,0,0,0,0,0],[0,0,0,0,0,0,0,0,0,0],[0,0,0,0,0,1,-1,0,0,0],[0,0,0,0,0,0,0,0,0,0]])\n",
    "    p3 = Qobj([[0,0,0,0,0,0,0,0,0,0],[0,0,0,0,0,0,0,0,0,0],[0,0,0,0,0,0,0,0,0,0],[0,0,0,0,0,0,0,0,0,0],[0,0,0,0,0,0,0,0,0,0],\n",
    "    [0,0,0,0,0,0,0,0,0,0],[0,0,0,0,0,0,0,0,0,0],[0,0,0,0,0,0,0,0,0,0],[0,0,0,0,0,0,0,0,0,0],[0,1,1,0,0,0,0,0,0,0]])\n",
    "    p4 = Qobj([[0,0,0,0,0,0,0,0,0,0],[0,0,0,0,0,0,0,0,0,0],[0,0,0,0,0,0,0,0,0,0],[0,0,0,0,0,0,0,0,0,0],[0,0,0,0,0,0,0,0,0,0],\n",
    "    [0,0,0,0,0,0,0,0,0,0],[0,0,0,0,0,0,0,0,0,0],[0,0,0,0,0,0,0,0,0,0],[0,0,0,0,0,0,0,0,0,0],[0,0,0,0,0,1,1,0,0,0]])\n",
    "    p5 = Qobj([[0,0,0,0,0,0,0,0,0,0],[0,0,0,0,0,0,0,0,0,0],[0,0,0,0,0,0,0,0,0,0],[0,0,0,0,0,0,0,0,0,0],[0,0,0,0,0,0,0,0,0,0],\n",
    "    [0,0,0,0,0,0,0,0,0,0],[0,0,0,0,0,0,0,0,0,0],[0,0,0,0,0,0,0,0,0,0],[0,0,0,0,0,0,0,0,0,0],[1,0,0,0,0,0,0,0,0,0]])\n",
    "    p6 = Qobj([[0,0,0,0,0,0,0,0,0,0],[0,0,0,0,0,0,0,0,0,0],[0,0,0,0,0,0,0,0,0,0],[0,0,0,0,0,0,0,0,0,0],[0,0,0,0,0,0,0,0,0,0],\n",
    "    [0,0,0,0,0,0,0,0,0,0],[0,0,0,0,0,0,0,0,0,0],[0,0,0,0,0,0,0,0,0,0],[0,0,0,0,0,0,0,0,0,0],[0,0,0,1,0,0,0,0,0,0]])\n",
    "    p7 = Qobj([[0,0,0,0,0,0,0,0,0,0],[0,0,0,0,0,0,0,0,0,0],[0,0,0,0,0,0,0,0,0,0],[0,0,0,0,0,0,0,0,0,0],[0,0,0,0,0,0,0,0,0,0],\n",
    "    [0,0,0,0,0,0,0,0,0,0],[0,0,0,0,0,0,0,0,0,0],[0,0,0,0,0,0,0,0,0,0],[0,0,0,0,0,0,0,0,0,0],[0,0,0,0,1,0,0,0,0,0]])\n",
    "    p8 = Qobj([[0,0,0,0,0,0,0,0,0,0],[0,0,0,0,0,0,0,0,0,0],[0,0,0,0,0,0,0,0,0,0],[0,0,0,0,0,0,0,0,0,0],[0,0,0,0,0,0,0,0,0,0],\n",
    "    [0,0,0,0,0,0,0,0,0,0],[0,0,0,0,0,0,0,0,0,0],[0,0,0,0,0,0,0,0,0,0],[0,0,0,0,0,0,0,0,0,0],[0,0,0,0,0,0,0,1,0,0]])\n",
    "\n",
    "    #p=[p1,p2,p3,p4,p5,p6,p7,p8]\n",
    "    p1 = Qobj([[0,0,0,0,0,0,0,0],[0,0,0,0,0,0,0,0],[0,0,0,0,0,0,0,0],\n",
    "    [0,0,0,0,0,0,0,0],[0,0,0,0,0,0,0,0],[0,0,0,0,0,0,0,0],[0,0,0,0,0,0,0,0],[0,0,0,0,1,-1,0,0]])\n",
    "    p = [p1]\n",
    "#     tem = 0.\n",
    "#     for i in range(8):\n",
    "#         tem = tem + lindblad_dissipator(p[i])\n",
    "#         #tem = tem + k[i]*tensor(tensor(p[i], rho_0), p[i].dag()) #- 0.5*k[i]*(tensor(tensor(p[i].dag(),p[i]), rho_0) + tensor(tensor(rho_0, p[i].dag()), p[i]))\n",
    "#     c_opt = tem   \n",
    "    \n",
    "    c_opt = p\n",
    "    L = liouvillian(H_10st(a, omega), c_opt)\n",
    "    tlist = np.linspace(0, 10, 100)\n",
    "    result = mesolve(L, rho_0, tlist, [], [])\n",
    "    print(result.states[-1])\n",
    "    print(tem)"
   ]
  },
  {
   "cell_type": "code",
   "execution_count": 34,
   "metadata": {},
   "outputs": [
    {
     "name": "stdout",
     "output_type": "stream",
     "text": [
      "Quantum object: dims = [[2, 4, 1], [2, 1, 4]], shape = (8, 8), type = oper, isherm = True\n",
      "Qobj data =\n",
      "[[ 0.    0.    0.    0.    0.    0.    0.    0.  ]\n",
      " [ 0.    0.25 -0.25  0.    0.    0.    0.    0.  ]\n",
      " [ 0.   -0.25  0.25  0.    0.    0.    0.    0.  ]\n",
      " [ 0.    0.    0.    0.    0.    0.    0.    0.  ]\n",
      " [ 0.    0.    0.    0.    0.    0.    0.    0.  ]\n",
      " [ 0.    0.    0.    0.    0.    0.25 -0.25  0.  ]\n",
      " [ 0.    0.    0.    0.    0.   -0.25  0.25  0.  ]\n",
      " [ 0.    0.    0.    0.    0.    0.    0.    0.  ]]\n",
      "Quantum object: dims = [[10], [8]], shape = (10, 8), type = oper, isherm = False\n",
      "Qobj data =\n",
      "[[1. 0. 0. 0. 0. 0. 0. 0.]\n",
      " [0. 1. 0. 0. 0. 0. 0. 0.]\n",
      " [0. 0. 1. 0. 0. 0. 0. 0.]\n",
      " [0. 0. 0. 1. 0. 0. 0. 0.]\n",
      " [0. 0. 0. 0. 1. 0. 0. 0.]\n",
      " [0. 0. 0. 0. 0. 1. 0. 0.]\n",
      " [0. 0. 0. 0. 0. 0. 1. 0.]\n",
      " [0. 0. 0. 0. 0. 0. 0. 1.]\n",
      " [0. 0. 0. 0. 0. 0. 0. 0.]\n",
      " [0. 0. 0. 0. 0. 0. 0. 0.]]\n"
     ]
    }
   ],
   "source": [
    "psi_0 = 1/np.sqrt(2)*(basis(4, 2) - basis(4, 1))\n",
    "rho_0 = 0.5*tensor(qeye(2), tensor(psi_0,psi_0.dag()))\n",
    "trnsf = Qobj([[1,0,0,0,0,0,0,0],[0,1,0,0,0,0,0,0],[0,0,1,0,0,0,0,0],[0,0,0,1,0,0,0,0],[0,0,0,0,1,0,0,0],\n",
    "[0,0,0,0,0,1,0,0],[0,0,0,0,0,0,1,0],[0,0,0,0,0,0,0,1],[0,0,0,0,0,0,0,0],[0,0,0,0,0,0,0,0]])\n",
    "#rho_01 = trnsf*rho_0*trnsf.trans()\n",
    "\n",
    "print(rho_0)\n",
    "print(trnsf)"
   ]
  },
  {
   "cell_type": "code",
   "execution_count": 26,
   "metadata": {},
   "outputs": [
    {
     "name": "stdout",
     "output_type": "stream",
     "text": [
      "Quantum object: dims = [[10], [10]], shape = (10, 10), type = oper, isherm = True\n",
      "Qobj data =\n",
      "[[0. 0. 0. 0. 0. 0. 0. 0. 0. 0.]\n",
      " [0. 0. 0. 0. 0. 0. 0. 0. 0. 0.]\n",
      " [0. 0. 0. 0. 0. 0. 0. 0. 0. 0.]\n",
      " [0. 0. 0. 0. 0. 0. 0. 0. 0. 0.]\n",
      " [0. 0. 0. 0. 0. 0. 0. 0. 0. 0.]\n",
      " [0. 0. 0. 0. 0. 0. 0. 0. 0. 0.]\n",
      " [0. 0. 0. 0. 0. 0. 0. 0. 0. 0.]\n",
      " [0. 0. 0. 0. 0. 0. 0. 0. 0. 0.]\n",
      " [0. 0. 0. 0. 0. 0. 0. 0. 0. 0.]\n",
      " [0. 0. 0. 0. 0. 0. 0. 0. 0. 0.]]\n"
     ]
    }
   ],
   "source": [
    "print(p[1]*p[1].dag())"
   ]
  },
  {
   "cell_type": "code",
   "execution_count": 17,
   "metadata": {},
   "outputs": [
    {
     "name": "stdout",
     "output_type": "stream",
     "text": [
      "Quantum object: dims = [[2, 2, 2], [2, 2, 2]], shape = (8, 8), type = oper, isherm = True\n",
      "Qobj data =\n",
      "[[ 3.+0.j  1.-1.j  1.-1.j  0.+0.j  0.+0.j  0.+0.j  0.+0.j  0.+0.j]\n",
      " [ 1.+1.j -1.+0.j  0.+0.j  1.-1.j  2.+0.j  0.+0.j  0.+0.j  0.+0.j]\n",
      " [ 1.+1.j  0.+0.j  1.+0.j  1.-1.j  0.+0.j  0.+0.j  0.+0.j  0.+0.j]\n",
      " [ 0.+0.j  1.+1.j  1.+1.j -3.+0.j  0.+0.j  0.+0.j  2.+0.j  0.+0.j]\n",
      " [ 0.+0.j  2.+0.j  0.+0.j  0.+0.j  1.+0.j  1.-1.j  1.-1.j  0.+0.j]\n",
      " [ 0.+0.j  0.+0.j  0.+0.j  0.+0.j  1.+1.j  1.+0.j  0.+0.j  1.-1.j]\n",
      " [ 0.+0.j  0.+0.j  0.+0.j  2.+0.j  1.+1.j  0.+0.j -1.+0.j  1.-1.j]\n",
      " [ 0.+0.j  0.+0.j  0.+0.j  0.+0.j  0.+0.j  1.+1.j  1.+1.j -1.+0.j]]\n"
     ]
    }
   ],
   "source": [
    "print(H_10st(a, omega))"
   ]
  },
  {
   "cell_type": "code",
   "execution_count": 35,
   "metadata": {},
   "outputs": [
    {
     "name": "stdout",
     "output_type": "stream",
     "text": [
      "Quantum object: dims = [[[10], [10]], [[10], [10]]], shape = (100, 100), type = super, isherm = False\n",
      "Qobj data =\n",
      "[[ 0.   0.   0.  ...  0.   0.   0. ]\n",
      " [ 0.   0.   0.  ...  0.   0.   0. ]\n",
      " [ 0.   0.   0.  ...  0.   0.   0. ]\n",
      " ...\n",
      " [ 0.   0.   0.  ... -0.5  0.   0. ]\n",
      " [ 0.   0.   0.  ...  0.   0.   0. ]\n",
      " [ 0.   0.   0.  ...  0.   0.   0. ]]\n"
     ]
    }
   ],
   "source": [
    "print(lindblad_dissipator(p[i]))"
   ]
  },
  {
   "cell_type": "code",
   "execution_count": 38,
   "metadata": {},
   "outputs": [
    {
     "name": "stdout",
     "output_type": "stream",
     "text": [
      "Quantum object: dims = [[[10], [10]], [[10], [10]]], shape = (100, 100), type = super, isherm = False\n",
      "Qobj data =\n",
      "[[-1.   0.   0.  ...  0.   0.   0. ]\n",
      " [ 0.  -1.5  0.  ...  0.   0.   0. ]\n",
      " [ 0.   0.  -1.5 ...  0.   0.   0. ]\n",
      " ...\n",
      " [ 0.   0.   0.  ... -0.5  0.   0. ]\n",
      " [ 0.   0.   0.  ...  0.   0.   0. ]\n",
      " [ 1.   0.   0.  ...  0.   0.   0. ]]\n"
     ]
    }
   ],
   "source": [
    "print(c_opt)"
   ]
  },
  {
   "cell_type": "code",
   "execution_count": null,
   "metadata": {},
   "outputs": [],
   "source": []
  }
 ],
 "metadata": {
  "kernelspec": {
   "display_name": "Python 3",
   "language": "python",
   "name": "python3"
  },
  "language_info": {
   "codemirror_mode": {
    "name": "ipython",
    "version": 3
   },
   "file_extension": ".py",
   "mimetype": "text/x-python",
   "name": "python",
   "nbconvert_exporter": "python",
   "pygments_lexer": "ipython3",
   "version": "3.7.0"
  }
 },
 "nbformat": 4,
 "nbformat_minor": 4
}
